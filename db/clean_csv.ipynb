{
 "cells": [
  {
   "cell_type": "code",
   "execution_count": 1,
   "metadata": {},
   "outputs": [],
   "source": [
    "import os\n",
    "import pandas as pd\n",
    "import numpy as np\n",
    "import datetime\n",
    "import psycopg2"
   ]
  },
  {
   "cell_type": "code",
   "execution_count": 2,
   "metadata": {},
   "outputs": [],
   "source": [
    "def get_db_connex():\n",
    "    conn = psycopg2.connect(host=\"localhost\", database=\"crosstown\")\n",
    "    return conn.cursor()"
   ]
  },
  {
   "cell_type": "code",
   "execution_count": 3,
   "metadata": {},
   "outputs": [],
   "source": [
    "columns = [\n",
    "    'AD',\n",
    "    'ED',\n",
    "    'County',\n",
    "    'EDAD Status',\n",
    "    'Event',\n",
    "    'Party/Independent Body',\n",
    "    'Office/Position Title',\n",
    "    'District Key',\n",
    "    'VoteFor',\n",
    "    'Unit Name',\n",
    "    'Tally'\n",
    "]"
   ]
  },
  {
   "cell_type": "code",
   "execution_count": 31,
   "metadata": {},
   "outputs": [],
   "source": [
    "def load_data(filepath, cols = list(range(11,22)), header = None):\n",
    "    return pd.read_csv(\n",
    "        filepath, \n",
    "        names = columns,\n",
    "        usecols = cols,\n",
    "        header = header\n",
    "    )\n",
    "\n",
    "def data_to_db(df):\n",
    "    df.to_sql(name='results', con=conn, schema='public')\n",
    "    \n",
    "def data_from_db(cur, query):\n",
    "    cur.execute(query)\n",
    "    return cur.fetchall()\n",
    "    \n",
    "def write_metadata(bod_id, df):\n",
    "    date = get_date(df)\n",
    "    office = get_office(df)\n",
    "    district = get_district(df)\n",
    "    rows = len(df)\n",
    "    sql_query = (\"INSERT INTO datasets(bod_id, date, office, district_key, rows) VALUES ('\"+\n",
    "        bod_id+\n",
    "        \"', to_date('\"+\n",
    "        date+\n",
    "        \"'::text, 'YYYY-MM-DD'),'\"+\n",
    "        office+\n",
    "        \"','\"+\n",
    "        str(district)+\n",
    "        \"',\"+\n",
    "        str(rows)+\n",
    "        \");\"\n",
    "    )\n",
    "    query = 'psql -h localhost crosstown -c \"' + sql_query + '\"'\n",
    "    print('** write metadata', query)\n",
    "    res = os.system(query)\n",
    "    print('** write metadata result', res)\n",
    "\n",
    "def write_data(bod_id, df):\n",
    "    data_path = get_path(bod_id, df)\n",
    "    full_path = './data/clean/'+data_path\n",
    "    df.to_csv(full_path, index=False)\n",
    "#     print('** skip write_data')\n",
    "    query = ('cat '+\n",
    "        full_path+\n",
    "        ' | psql -h localhost crosstown -c \"COPY results(ad, ed, county, edad_status, event, party, office, district_key, vote_for, unit_name, tally) from stdin CSV HEADER\"'\n",
    "    )\n",
    "    print('** write data', query)    \n",
    "    res = os.system(query)\n",
    "    print('** write data result', res)\n",
    "    \n",
    "def get_path(bod_id, df):\n",
    "    event = df['Event'][0].split(' - ')\n",
    "    return event[1][-4:] + '/' + bod_id + '.csv'\n",
    "\n",
    "def get_date(df):\n",
    "    event = df['Event'][0].split(' - ')\n",
    "    return str(datetime.datetime.strptime(event[1][-10:], '%m/%d/%Y').date())\n",
    "\n",
    "def get_office(df):\n",
    "    return df[\"Office/Position Title\"][0]\n",
    "\n",
    "def get_district(df):\n",
    "    return df[\"District Key\"][0]\n",
    "\n",
    "def control(raw_file, extraCols = False):\n",
    "    bod_id = raw_file[0:11]\n",
    "    \n",
    "    if extraCols:\n",
    "        cols = list(range(11,22))\n",
    "        header = None\n",
    "    else:\n",
    "        cols = list(range(0, 11))\n",
    "        header = 0\n",
    "\n",
    "    data = load_data('./data/raw/'+raw_file, cols, header)\n",
    "    if len(data) == 0:\n",
    "        print(\"No data, exiting on \", bod_id)\n",
    "        return\n",
    "    date = get_date(data)\n",
    "    if is_dataset_in_datasets(bod_id, date):\n",
    "        print (\"Already loaded, exiting on \", bod_id)\n",
    "        return\n",
    "    write_data(bod_id, data)\n",
    "    write_metadata(bod_id, data)\n",
    "    \n",
    "def is_dataset_in_datasets(bod_id, date):\n",
    "    res = data_from_db(\n",
    "        cur, \n",
    "        \"\"\"SELECT * FROM datasets WHERE bod_id = '\"\"\"+ bod_id +\"\"\"' and date = '\"\"\"+ date +\"\"\"' \"\"\"\n",
    "    )\n",
    "    return len(res) > 0"
   ]
  },
  {
   "cell_type": "code",
   "execution_count": 33,
   "metadata": {},
   "outputs": [
    {
     "data": {
      "text/plain": [
       "['00050200000Citywide Permitting Electronic Distribution of State Legislative Bills Citywide EDLevel.csv']"
      ]
     },
     "execution_count": 33,
     "metadata": {},
     "output_type": "execute_result"
    }
   ],
   "source": [
    "## https://vote.nyc/page/election-results-summary\n",
    "## CAUTION ID bod_id is unique by office, not by election date\n",
    "## datasets is unique by bod_id / date\n",
    "cur = get_db_connex()\n",
    "files = list(filter(lambda x: x != '.DS_Store', os.listdir('./data/raw')))\n",
    "loaded_files_bod_ids = map(lambda x: (x[0], str(x[1])), data_from_db(cur, \"\"\"SELECT * FROM datasets\"\"\"))\n",
    "files"
   ]
  },
  {
   "cell_type": "code",
   "execution_count": 34,
   "metadata": {},
   "outputs": [
    {
     "name": "stdout",
     "output_type": "stream",
     "text": [
      "** write data cat ./data/clean/2014/00050200000.csv | psql -h localhost crosstown -c \"COPY results(ad, ed, county, edad_status, event, party, office, district_key, vote_for, unit_name, tally) from stdin CSV HEADER\"\n",
      "** write data result 256\n",
      "** write metadata psql -h localhost crosstown -c \"INSERT INTO datasets(bod_id, date, office, district_key, rows) VALUES ('00050200000', to_date('2014-11-04'::text, 'YYYY-MM-DD'),'Permitting Electronic Distribution of State Legislative Bills','NYC',37416);\"\n",
      "** write metadata result 256\n"
     ]
    }
   ],
   "source": [
    "for f in files:\n",
    "    control(f, False)\n",
    "# raw_file = files[fileIndex]\n",
    "# extraCols = False\n",
    "# bod_id = raw_file[0:11]\n",
    "    \n",
    "# if extraCols:\n",
    "#     cols = list(range(11,22))\n",
    "#     header = None\n",
    "# else:\n",
    "#     cols = list(range(0, 11))\n",
    "#     header = 0\n",
    "\n",
    "# data = load_data('./data/raw/'+raw_file, cols, header)\n",
    "# date = get_date(data)\n",
    "# is_dataset_in_datasets(bod_id, date)"
   ]
  },
  {
   "cell_type": "code",
   "execution_count": 303,
   "metadata": {},
   "outputs": [
    {
     "data": {
      "text/plain": [
       "['.DS_Store',\n",
       " '00102300065New York Member of the Assembly 65th Assembly District EDLevel.csv',\n",
       " '01102300065New York Democratic Member of the Assembly 65th Assembly District EDLevel.csv',\n",
       " '00150300000New York Authorizing the Use of Forest Preserve Land for Specified Purposes Citywide EDLevel.csv',\n",
       " \"00150200000New York Allowing the complete or partial forfeiture of a public officer's pension if he or she is convicted of a certain type of felony Citywide EDLevel.csv\"]"
      ]
     },
     "execution_count": 303,
     "metadata": {},
     "output_type": "execute_result"
    }
   ],
   "source": [
    "files"
   ]
  },
  {
   "cell_type": "code",
   "execution_count": 35,
   "metadata": {},
   "outputs": [],
   "source": [
    "cur.close()"
   ]
  }
 ],
 "metadata": {
  "kernelspec": {
   "display_name": "Python 3",
   "language": "python",
   "name": "python3"
  },
  "language_info": {
   "codemirror_mode": {
    "name": "ipython",
    "version": 3
   },
   "file_extension": ".py",
   "mimetype": "text/x-python",
   "name": "python",
   "nbconvert_exporter": "python",
   "pygments_lexer": "ipython3",
   "version": "3.6.2"
  }
 },
 "nbformat": 4,
 "nbformat_minor": 2
}
