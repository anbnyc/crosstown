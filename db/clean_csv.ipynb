{
 "cells": [
  {
   "cell_type": "code",
   "execution_count": 4,
   "metadata": {},
   "outputs": [],
   "source": [
    "import os\n",
    "import pandas as pd\n",
    "import numpy as np\n",
    "import datetime\n",
    "import psycopg2"
   ]
  },
  {
   "cell_type": "code",
   "execution_count": 56,
   "metadata": {},
   "outputs": [],
   "source": [
    "def get_db_connex():\n",
    "    conn = psycopg2.connect(host=\"localhost\", database=\"crosstown\")\n",
    "    return conn.cursor()"
   ]
  },
  {
   "cell_type": "code",
   "execution_count": 6,
   "metadata": {},
   "outputs": [],
   "source": [
    "columns = [\n",
    "    'AD',\n",
    "    'ED',\n",
    "    'County',\n",
    "    'EDAD Status',\n",
    "    'Event',\n",
    "    'Party/Independent Body',\n",
    "    'Office/Position Title',\n",
    "    'District Key',\n",
    "    'VoteFor',\n",
    "    'Unit Name',\n",
    "    'Tally'\n",
    "]"
   ]
  },
  {
   "cell_type": "code",
   "execution_count": 59,
   "metadata": {},
   "outputs": [],
   "source": [
    "def load_data(filepath, cols = list(range(11,22)), header = None):\n",
    "    return pd.read_csv(\n",
    "        filepath, \n",
    "        names = columns,\n",
    "        usecols = cols,\n",
    "        header = header\n",
    "    )\n",
    "\n",
    "def data_to_db(df):\n",
    "    df.to_sql(name='results', con=conn, schema='public')\n",
    "    \n",
    "def data_from_db(cur, query):\n",
    "    cur.execute(query)\n",
    "    return cur.fetchall()\n",
    "    \n",
    "def write_metadata(bod_id, df):\n",
    "    date, event_name = get_date_and_event_name(df)\n",
    "    office = get_office(df)\n",
    "    district = get_district(df)\n",
    "    rows = len(df)\n",
    "    sql_query = (\"INSERT INTO datasets(bod_id, date, event_name, office, district_key, rows) VALUES ('\"+\n",
    "        bod_id+\n",
    "        \"', to_date('\"+\n",
    "        date+\n",
    "        \"'::text, 'YYYY-MM-DD'),'\"+\n",
    "        event_name + \n",
    "        \"','\" +\n",
    "        office+\n",
    "        \"','\"+\n",
    "        str(district)+\n",
    "        \"',\"+\n",
    "        str(rows)+\n",
    "        \");\"\n",
    "    )\n",
    "    query = 'psql -h localhost crosstown -c \"' + sql_query + '\"'\n",
    "    print('** meta query  **', query)\n",
    "    res = os.system(query)\n",
    "    print('** meta status ** ', res)\n",
    "\n",
    "def write_data(bod_id, df):\n",
    "    ## append bod_id column to end of DF\n",
    "    df['bod_id'] = bod_id\n",
    "    data_path = get_path(bod_id, df)\n",
    "    full_path = './data/clean/'+data_path\n",
    "    df.to_csv(full_path, index=False)\n",
    "#     print('** skip write_data')\n",
    "    query = ('cat '+\n",
    "        full_path+\n",
    "        ' | psql -h localhost crosstown -c '+\n",
    "             '\"COPY results(ad, ed, county, edad_status, event, party,'+\n",
    "             ' office, district_key, vote_for, unit_name, tally, bod_id) from stdin CSV HEADER\"'\n",
    "    )\n",
    "    print('** data query  ** ', query)    \n",
    "    res = os.system(query)\n",
    "    print('** data status ** ', res)\n",
    "    \n",
    "def get_path(bod_id, df):\n",
    "    event = df['Event'][0].split(' - ')\n",
    "    return event[1][-4:] + '/' + bod_id + '.csv'\n",
    "\n",
    "def get_date_and_event_name(df):\n",
    "    event = df['Event'][0].split(' - ')\n",
    "    return (str(datetime.datetime.strptime(event[1][-10:], '%m/%d/%Y').date()), event[0])\n",
    "\n",
    "def get_office(df):\n",
    "    return df[\"Office/Position Title\"][0]\n",
    "\n",
    "def get_district(df):\n",
    "    return df[\"District Key\"][0]\n",
    "\n",
    "def count_cols(path):\n",
    "    data = pd.read_csv(path, nrows=1)\n",
    "    return data.size\n",
    "\n",
    "def control(year, raw_file):\n",
    "    bod_id = raw_file[0:11]\n",
    "    path = './data/raw/'+year+'/'+raw_file\n",
    "    \n",
    "    nCols = count_cols(path)\n",
    "    \n",
    "    if nCols == 22:\n",
    "        cols = list(range(11,22))\n",
    "        header = None\n",
    "    elif nCols == 11:\n",
    "        cols = list(range(0, 11))\n",
    "        header = 0\n",
    "    else:\n",
    "        print(\"Unrecognized number of columns, exiting on \", bod_id)\n",
    "        return\n",
    "\n",
    "    data = load_data(path, cols, header)\n",
    "    if len(data) == 0:\n",
    "        print(\"No data, exiting on \", bod_id)\n",
    "        return\n",
    "    date = get_date(data)\n",
    "    if is_dataset_in_datasets(bod_id, date):\n",
    "        print (\"Already loaded, exiting on \", bod_id)\n",
    "        return\n",
    "    write_data(bod_id, data)\n",
    "    write_metadata(bod_id, data)\n",
    "    \n",
    "def is_dataset_in_datasets(bod_id, date):\n",
    "    res = data_from_db(\n",
    "        cur, \n",
    "        \"\"\"SELECT * FROM datasets WHERE bod_id = '\"\"\"+ bod_id +\"\"\"' and date = '\"\"\"+ date +\"\"\"' \"\"\"\n",
    "    )\n",
    "    return len(res) > 0"
   ]
  },
  {
   "cell_type": "code",
   "execution_count": 57,
   "metadata": {},
   "outputs": [
    {
     "data": {
      "text/plain": [
       "['2013', '2014', '2015', '2012', '2017', '2019', '2020', '2018', '2016']"
      ]
     },
     "execution_count": 57,
     "metadata": {},
     "output_type": "execute_result"
    }
   ],
   "source": [
    "## https://vote.nyc/page/election-results-summary\n",
    "## CAUTION ID bod_id is unique by office, not by election date\n",
    "## datasets is unique by bod_id / date\n",
    "cur = get_db_connex()\n",
    "years = list(filter(lambda x: x != '.DS_Store', os.listdir('./data/raw')))\n",
    "loaded_files_bod_ids = map(lambda x: (x[0], str(x[1])), data_from_db(cur, \"\"\"SELECT * FROM datasets\"\"\"))\n",
    "years"
   ]
  },
  {
   "cell_type": "code",
   "execution_count": 1,
   "metadata": {},
   "outputs": [],
   "source": [
    "year = '2020'\n",
    "files = list(filter(lambda x: x != '.DS_Store', os.listdir('./data/raw/'+year)))\n",
    "for f in files:\n",
    "    control(year, f)"
   ]
  },
  {
   "cell_type": "code",
   "execution_count": 3,
   "metadata": {},
   "outputs": [],
   "source": [
    "cur.close()"
   ]
  }
 ],
 "metadata": {
  "kernelspec": {
   "display_name": "Python 3",
   "language": "python",
   "name": "python3"
  },
  "language_info": {
   "codemirror_mode": {
    "name": "ipython",
    "version": 3
   },
   "file_extension": ".py",
   "mimetype": "text/x-python",
   "name": "python",
   "nbconvert_exporter": "python",
   "pygments_lexer": "ipython3",
   "version": "3.9.0"
  }
 },
 "nbformat": 4,
 "nbformat_minor": 4
}
